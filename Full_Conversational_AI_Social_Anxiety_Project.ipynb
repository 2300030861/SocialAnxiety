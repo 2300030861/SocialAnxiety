{
 "cells": [
  {
   "cell_type": "markdown",
   "id": "9e2c5043",
   "metadata": {},
   "source": [
    "\n",
    "# **Conversational AI for Social Anxiety Detection and Coaching**\n",
    "\n",
    "This project uses conversational AI to assess and support individuals with social anxiety. It combines Likert-scale inputs and sentiment analysis to calculate an anxiety score (SAS) and uses AI to provide adaptive feedback and personalized social interaction scenarios.\n"
   ]
  },
  {
   "cell_type": "markdown",
   "id": "c977a3a8",
   "metadata": {},
   "source": [
    "\n",
    "## **Problem Statement**\n",
    "\n",
    "- Social Anxiety Disorder (SAD) affects 5–10% of people and significantly impacts daily life.\n",
    "- Individuals struggle with public speaking, social interaction, and group communication.\n",
    "- Traditional therapy is expensive and not always accessible or anonymous.\n",
    "- There is a need for a 24/7, personalized, AI-based system that can assess anxiety and provide ongoing support.\n"
   ]
  },
  {
   "cell_type": "markdown",
   "id": "1b972dd5",
   "metadata": {},
   "source": [
    "\n",
    "## **Proposed Solution**\n",
    "\n",
    "- An AI-powered tool that combines Likert-based scoring and NLP sentiment analysis.\n",
    "- Classifies users into anxiety levels: Low, Moderate, High.\n",
    "- Generates personalized conversation scenarios (deck cards) based on anxiety levels.\n",
    "- Provides tailored feedback and coping strategies (e.g., guided breathing, reflection tasks).\n"
   ]
  },
  {
   "cell_type": "markdown",
   "id": "fcaa00d8",
   "metadata": {},
   "source": [
    "\n",
    "## **System Development Approach**\n",
    "\n",
    "- **Language:** Python 3.x\n",
    "- **Platform:** Google Colab\n",
    "- **Libraries:** NumPy, NLTK (VADER), Transformers (GPT-2), Matplotlib (optional)\n",
    "- **Technologies Used:** NLP, Sentiment Analysis, Rule-based logic, GPT-2 text generation\n"
   ]
  },
  {
   "cell_type": "code",
   "execution_count": null,
   "id": "299fc169",
   "metadata": {},
   "outputs": [],
   "source": [
    "\n",
    "import numpy as np\n",
    "import nltk\n",
    "from nltk.sentiment import SentimentIntensityAnalyzer\n",
    "from transformers import pipeline\n",
    "nltk.download('vader_lexicon')\n"
   ]
  },
  {
   "cell_type": "markdown",
   "id": "7a6211a0",
   "metadata": {},
   "source": [
    "## **Likert Scale Input Collection**"
   ]
  },
  {
   "cell_type": "code",
   "execution_count": null,
   "id": "79063bfb",
   "metadata": {},
   "outputs": [],
   "source": [
    "\n",
    "questions = [\n",
    "    \"How anxious do you feel when introducing yourself to a group?\",\n",
    "    \"How likely are you to avoid eye contact during conversations?\",\n",
    "    \"How uncomfortable do you feel when speaking in public?\",\n",
    "    \"How often do you avoid asking questions in a group setting?\"\n",
    "]\n",
    "\n",
    "def collect_likert_responses():\n",
    "    responses = []\n",
    "    for q in questions:\n",
    "        print(q)\n",
    "        r = int(input(\"Enter response (0 - No Anxiety to 4 - Extreme Anxiety): \"))\n",
    "        responses.append(r)\n",
    "    return responses\n",
    "\n",
    "likert_responses = collect_likert_responses()\n"
   ]
  },
  {
   "cell_type": "markdown",
   "id": "800c6447",
   "metadata": {},
   "source": [
    "## **Calculate Social Anxiety Score (SAS)**"
   ]
  },
  {
   "cell_type": "code",
   "execution_count": null,
   "id": "25f157bd",
   "metadata": {},
   "outputs": [],
   "source": [
    "\n",
    "def calculate_sas(responses):\n",
    "    fi = np.array([1] * len(responses))\n",
    "    xi = np.array(responses)\n",
    "    sas = np.sum(fi * xi) / np.sum(fi)\n",
    "    return sas\n",
    "\n",
    "sas_score = calculate_sas(likert_responses)\n",
    "print(f\"Initial Social Anxiety Score (SAS): {sas_score:.2f}\")\n"
   ]
  },
  {
   "cell_type": "markdown",
   "id": "0e546c0f",
   "metadata": {},
   "source": [
    "## **Sentiment Analysis of User Response**"
   ]
  },
  {
   "cell_type": "code",
   "execution_count": null,
   "id": "9abe9067",
   "metadata": {},
   "outputs": [],
   "source": [
    "\n",
    "sia = SentimentIntensityAnalyzer()\n",
    "\n",
    "def analyze_text_sentiment(response_text):\n",
    "    sentiment_score = sia.polarity_scores(response_text)['compound']\n",
    "    if sentiment_score > 0.2:\n",
    "        return \"Positive\", sentiment_score\n",
    "    elif sentiment_score < -0.2:\n",
    "        return \"Negative\", sentiment_score\n",
    "    else:\n",
    "        return \"Neutral\", sentiment_score\n",
    "\n",
    "user_text = input(\"Describe how you feel in social situations: \")\n",
    "sentiment, sentiment_score = analyze_text_sentiment(user_text)\n",
    "print(f\"Sentiment: {sentiment}, Sentiment Score: {sentiment_score}\")\n"
   ]
  },
  {
   "cell_type": "markdown",
   "id": "a1c0c084",
   "metadata": {},
   "source": [
    "## **Classify Anxiety Level**"
   ]
  },
  {
   "cell_type": "code",
   "execution_count": null,
   "id": "6389380b",
   "metadata": {},
   "outputs": [],
   "source": [
    "\n",
    "def categorize_anxiety(sas_score, sentiment_score):\n",
    "    if sas_score < 1.5 and sentiment_score > 0:\n",
    "        return \"Low\"\n",
    "    elif sas_score < 3.0 or sentiment_score > -0.2:\n",
    "        return \"Moderate\"\n",
    "    else:\n",
    "        return \"High\"\n",
    "\n",
    "anxiety_level = categorize_anxiety(sas_score, sentiment_score)\n",
    "print(f\"Anxiety Level: {anxiety_level}\")\n"
   ]
  },
  {
   "cell_type": "markdown",
   "id": "5d7b5b97",
   "metadata": {},
   "source": [
    "## **Generate AI Deck Card Based on Anxiety Level**"
   ]
  },
  {
   "cell_type": "code",
   "execution_count": null,
   "id": "15eabb0a",
   "metadata": {},
   "outputs": [],
   "source": [
    "\n",
    "generator = pipeline(\"text-generation\", model=\"gpt2\")\n",
    "\n",
    "def generate_ai_deck_card(anxiety_level):\n",
    "    level_data = {\n",
    "        \"low\": {\n",
    "            \"question\": \"What’s a fun fact about yourself that not many people know?\",\n",
    "            \"suggestion\": \"Try sharing a fun fact about yourself in a casual conversation.\"\n",
    "        },\n",
    "        \"moderate\": {\n",
    "            \"question\": \"What’s one topic you feel comfortable talking about with new people?\",\n",
    "            \"suggestion\": \"Practice small talk by initiating a conversation this week.\"\n",
    "        },\n",
    "        \"high\": {\n",
    "            \"question\": \"What’s one small step you can take to feel more comfortable in social settings?\",\n",
    "            \"suggestion\": \"Start with self-reflection—write down your social fears and ways to overcome them.\"\n",
    "        }\n",
    "    }\n",
    "    anxiety_level = anxiety_level.lower()\n",
    "    if anxiety_level not in level_data:\n",
    "        return \"Invalid level\"\n",
    "\n",
    "    question = level_data[anxiety_level][\"question\"]\n",
    "    suggestion = level_data[anxiety_level][\"suggestion\"]\n",
    "    return f\"🃏 Deck Card:\\n💬 Question: {question}\\n💡 Suggestion: {suggestion}\"\n",
    "\n",
    "deck_card = generate_ai_deck_card(anxiety_level)\n",
    "print(deck_card)\n"
   ]
  },
  {
   "cell_type": "markdown",
   "id": "3ba7102d",
   "metadata": {},
   "source": [
    "## **Updated SAS and Feedback**"
   ]
  },
  {
   "cell_type": "code",
   "execution_count": null,
   "id": "fe271264",
   "metadata": {},
   "outputs": [],
   "source": [
    "\n",
    "def update_sas(existing_sas, sentiment):\n",
    "    if sentiment == \"Positive\":\n",
    "        return max(existing_sas - 0.2, 0)\n",
    "    elif sentiment == \"Negative\":\n",
    "        return min(existing_sas + 0.2, 4)\n",
    "    return existing_sas\n",
    "\n",
    "updated_sas = update_sas(sas_score, sentiment)\n",
    "print(f\"Updated SAS after coaching: {updated_sas:.2f}\")\n",
    "\n",
    "def provide_feedback(sas_score):\n",
    "    if sas_score < 1.5:\n",
    "        return \"You're showing great progress! Keep practicing social conversations.\"\n",
    "    elif sas_score < 3.0:\n",
    "        return \"You're improving! Try maintaining eye contact and initiating conversations.\"\n",
    "    else:\n",
    "        return \"Start with simpler interactions and practice mindfulness techniques.\"\n",
    "\n",
    "print(\"Feedback:\")\n",
    "print(provide_feedback(updated_sas))\n"
   ]
  },
  {
   "cell_type": "markdown",
   "id": "1f088eba",
   "metadata": {},
   "source": [
    "\n",
    "## **Conclusion**\n",
    "\n",
    "- Personalized, adaptive coaching system for social anxiety using NLP and GPT-2.\n",
    "- Successfully categorizes anxiety and generates interactive training scenarios.\n",
    "- Offers valuable feedback and tracks user progress.\n",
    "\n",
    "## **Future Scope**\n",
    "\n",
    "- Integrate multimodal inputs like voice and facial expression.\n",
    "- Expand scenario content across cultures and age groups.\n",
    "- Build a mobile app for wider accessibility.\n",
    "- Use physiological sensors for real-time anxiety tracking.\n"
   ]
  },
  {
   "cell_type": "markdown",
   "id": "e8c07430",
   "metadata": {},
   "source": [
    "\n",
    "## **References**\n",
    "\n",
    "- Clark & Wells (1995): [A Cognitive Model of Social Phobia](https://doi.org/10.1017/s1352465808004487)  \n",
    "- Wolf et al. (2020): [Transformers: State-of-the-Art NLP](https://arxiv.org/abs/1910.03771)  \n",
    "- Brummelhuis et al. (2024): [Parental Mental Illness and Anxiety](https://doi.org/10.1016/j.jad.2024.01.027)  \n",
    "- Xie et al. (2022): [Multimodal Fusion for Anxiety Diagnosis](https://doi.org/10.1016/j.compmedimag.2022.102128)  \n",
    "- WHO (2023): [Mental Health and Anxiety Stats](https://www.who.int/news-room/fact-sheets/detail/mental-disorders)  \n",
    "- GitHub: [Project Notebook](https://github.com/2300030861/SocialAnxiety/blob/main/SocialAnxiety.ipynb)\n"
   ]
  }
 ],
 "metadata": {},
 "nbformat": 4,
 "nbformat_minor": 5
}