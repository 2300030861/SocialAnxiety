{
  "nbformat": 4,
  "nbformat_minor": 0,
  "metadata": {
    "colab": {
      "provenance": []
    },
    "kernelspec": {
      "name": "python3",
      "display_name": "Python 3"
    },
    "language_info": {
      "name": "python"
    }
  },
  "cells": [
    {
      "cell_type": "code",
      "execution_count": null,
      "metadata": {
        "colab": {
          "base_uri": "https://localhost:8080/"
        },
        "id": "zVgKPxnO3GZl",
        "outputId": "7b17e223-0028-4e65-eabf-a50899dd8b76"
      },
      "outputs": [
        {
          "output_type": "stream",
          "name": "stdout",
          "text": [
            "How anxious do you feel when introducing yourself to a group? (0-4): 5\n",
            "Please enter a number between 0 and 4.\n",
            "How anxious do you feel when introducing yourself to a group? (0-4): 1\n",
            "How likely are you to avoid eye contact during conversations? (0-4): 4\n",
            "How uncomfortable do you feel when speaking in public? (0-4): 3\n",
            "How often do you avoid asking questions in a group setting? (0-4): 2\n",
            "Initial Social Anxiety Score (SAS): 2.50\n"
          ]
        }
      ],
      "source": [
        "\n",
        "import numpy as np\n",
        "\n",
        "# Sample questionnaire on social anxiety (5-point Likert scale: 0 to 4)\n",
        "questions = [\n",
        "    \"How anxious do you feel when introducing yourself to a group?\",\n",
        "    \"How likely are you to avoid eye contact during conversations?\",\n",
        "    \"How uncomfortable do you feel when speaking in public?\",\n",
        "    \"How often do you avoid asking questions in a group setting?\"\n",
        "]\n",
        "\n",
        "def collect_likert_responses():\n",
        "    responses = []\n",
        "    for q in questions:\n",
        "        while True:\n",
        "            try:\n",
        "                r = int(input(f\"{q} (0-4): \"))\n",
        "                if r in range(5):\n",
        "                    responses.append(r)\n",
        "                    break\n",
        "                else:\n",
        "                    print(\"Please enter a number between 0 and 4.\")\n",
        "            except ValueError:\n",
        "                print(\"Invalid input. Please enter a number.\")\n",
        "    return responses\n",
        "\n",
        "def calculate_sas(responses):\n",
        "    # Likert Scale Weighted Mean Calculation\n",
        "    fi = np.array([1] * len(responses))  # Frequency array (each question answered once)\n",
        "    xi = np.array(responses)  # Response values\n",
        "    sas = np.sum(fi * xi) / np.sum(fi)\n",
        "    return sas\n",
        "\n",
        "# Example Run\n",
        "responses = collect_likert_responses()\n",
        "sas_score = calculate_sas(responses)\n",
        "print(f\"Initial Social Anxiety Score (SAS): {sas_score:.2f}\")\n"
      ]
    },
    {
      "cell_type": "code",
      "source": [
        "import matplotlib.pyplot as plt\n",
        "import numpy as np\n",
        "\n",
        "# Simulated Likert responses (values between 0–4)\n",
        "questions = ['Q1', 'Q2', 'Q3', 'Q4']\n",
        "likert_responses = [3, 2, 4, 3]  # You can replace with user input\n",
        "\n",
        "# Generate bar chart\n",
        "plt.figure(figsize=(6, 4))\n",
        "plt.bar(questions, likert_responses, color='skyblue')\n",
        "plt.title('Likert Scale Responses')\n",
        "plt.xlabel('Questions')\n",
        "plt.ylabel('Anxiety Level (0-4)')\n",
        "plt.ylim(0, 4.5)\n",
        "plt.grid(axis='y', linestyle='--', alpha=0.7)\n",
        "plt.show()\n"
      ],
      "metadata": {
        "colab": {
          "base_uri": "https://localhost:8080/",
          "height": 410
        },
        "id": "zP1QxBsr154v",
        "outputId": "90c17c2a-2e4e-4b65-daf4-69653c9ef625"
      },
      "execution_count": 1,
      "outputs": [
        {
          "output_type": "display_data",
          "data": {
            "text/plain": [
              "<Figure size 600x400 with 1 Axes>"
            ],
            "image/png": "[encoded data removed]"
          },
          "metadata": {}
        }
      ]
    },
    {
      "cell_type": "code",
      "source": [
        "\n",
        "\n",
        "import nltk\n",
        "from nltk.sentiment import SentimentIntensityAnalyzer\n",
        "\n",
        "nltk.download('vader_lexicon')\n",
        "\n",
        "sia = SentimentIntensityAnalyzer()\n",
        "\n",
        "def analyze_text_sentiment(response_text):\n",
        "    sentiment_score = sia.polarity_scores(response_text)['compound']\n",
        "    if sentiment_score > 0.2:\n",
        "        return \"Positive\", sentiment_score\n",
        "    elif sentiment_score < -0.2:\n",
        "        return \"Negative\", sentiment_score\n",
        "    else:\n",
        "        return \"Neutral\", sentiment_score\n",
        "\n",
        "user_response = input(\"Describe how you feel in social situations: \")\n",
        "sentiment, score = analyze_text_sentiment(user_response)\n",
        "print(f\"Sentiment: {sentiment}, Sentiment Score: {score:.2f}\")\n"
      ],
      "metadata": {
        "colab": {
          "base_uri": "https://localhost:8080/"
        },
        "id": "ztW-aFQN99Za",
        "outputId": "2339a86b-9999-445e-f073-7ee298521b33"
      },
      "execution_count": null,
      "outputs": [
        {
          "output_type": "stream",
          "name": "stderr",
          "text": [
            "[nltk_data] Downloading package vader_lexicon to /root/nltk_data...\n",
            "[nltk_data]   Package vader_lexicon is already up-to-date!\n"
          ]
        },
        {
          "output_type": "stream",
          "name": "stdout",
          "text": [
            "Describe how you feel in social situations: bad\n",
            "Sentiment: Negative, Sentiment Score: -0.54\n"
          ]
        }
      ]
    },
    {
      "cell_type": "code",
      "source": [
        "def categorize_anxiety(sas_score, sentiment_score):\n",
        "    if sas_score < 1.5 and sentiment_score > 0:\n",
        "        return \"Low\"\n",
        "    elif sas_score < 3.0 or sentiment_score > -0.2:\n",
        "        return \"Moderate\"\n",
        "    else:\n",
        "        return \"High\"\n",
        "\n",
        "sas_score = float(input(\"Enter SAS Score: \"))\n",
        "sentiment_score = float(input(\"Enter Sentiment Score: \"))\n",
        "\n",
        "anxiety_level = categorize_anxiety(sas_score, sentiment_score)\n",
        "\n",
        "print(f\"Anxiety Level: {anxiety_level}\")\n"
      ],
      "metadata": {
        "colab": {
          "base_uri": "https://localhost:8080/"
        },
        "id": "UkC4C-KPDkYM",
        "outputId": "61866667-8e8f-4426-e296-40b5fea1cc48"
      },
      "execution_count": null,
      "outputs": [
        {
          "output_type": "stream",
          "name": "stdout",
          "text": [
            "Enter SAS Score: 2.50\n",
            "Enter Sentiment Score: -0.54\n",
            "Anxiety Level: Moderate\n"
          ]
        }
      ]
    },
    {
      "cell_type": "code",
      "source": [
        "from transformers import pipeline\n",
        "\n",
        "generator = pipeline(\"text-generation\", model=\"gpt2\")  # Change model if needed\n",
        "\n",
        "def generate_ai_deck_card(anxiety_level):\n",
        "    # Define level-based questions and suggestions\n",
        "    level_data = {\n",
        "        \"low\": {\n",
        "            \"question\": \"What’s a fun fact about yourself that not many people know?\",\n",
        "            \"suggestion\": \"Try sharing a fun fact about yourself in a casual conversation.\"\n",
        "        },\n",
        "        \"moderate\": {\n",
        "            \"question\": \"What’s one topic you feel comfortable talking about with new people?\",\n",
        "            \"suggestion\": \"Practice small talk by initiating a conversation with someone new this week.\"\n",
        "        },\n",
        "        \"high\": {\n",
        "            \"question\": \"What’s one small step you can take to feel more comfortable in social settings?\",\n",
        "            \"suggestion\": \"Start with self-reflection—write down your social fears and ways to overcome them.\"\n",
        "        }\n",
        "    }\n",
        "\n",
        "    # Convert user input to lowercase and validate\n",
        "    anxiety_level = anxiety_level.lower()\n",
        "    if anxiety_level not in level_data:\n",
        "        return \"Invalid anxiety level. Please enter Low, Moderate, or High.\"\n",
        "\n",
        "    # Fetch the corresponding question and suggestion\n",
        "    question = level_data[anxiety_level][\"question\"]\n",
        "    suggestion = level_data[anxiety_level][\"suggestion\"]\n",
        "\n",
        "    return f\"🃏 AI-Generated Deck Card:\\n💬 Question: {question}\\n\\n💡 Suggestion: {suggestion}\"\n",
        "\n",
        "# Get user input\n",
        "anxiety_level = input(\"Enter anxiety level (Low, Moderate, High): \")\n",
        "deck_card = generate_ai_deck_card(anxiety_level)\n",
        "\n",
        "print(deck_card)\n"
      ],
      "metadata": {
        "colab": {
          "base_uri": "https://localhost:8080/"
        },
        "id": "SYYFGJuMD2lu",
        "outputId": "10cdb2db-39fa-4d44-ec2b-dc84aa2bf4db"
      },
      "execution_count": null,
      "outputs": [
        {
          "output_type": "stream",
          "name": "stderr",
          "text": [
            "Device set to use cpu\n"
          ]
        },
        {
          "output_type": "stream",
          "name": "stdout",
          "text": [
            "Enter anxiety level (Low, Moderate, High): moderate\n",
            "🃏 AI-Generated Deck Card:\n",
            "💬 Question: What’s one topic you feel comfortable talking about with new people?\n",
            "\n",
            "💡 Suggestion: Practice small talk by initiating a conversation with someone new this week.\n"
          ]
        }
      ]
    },
    {
      "cell_type": "code",
      "source": [
        "def determine_next_phase(current_phase, response_analysis):\n",
        "    if response_analysis['avoidance_flag'] and response_analysis['sentiment'] == \"Negative\":\n",
        "        return current_phase\n",
        "    elif current_phase == \"Ice Breakers\" and response_analysis['sentiment'] in [\"Neutral\", \"Positive\"]:\n",
        "        return \"Bridge the Gap\"\n",
        "    elif current_phase == \"Bridge the Gap\" and response_analysis['sentiment'] == \"Positive\":\n",
        "        return \"Deep Dive\"\n",
        "    return current_phase\n",
        "\n",
        "current_phase = \"Ice Breakers\"\n",
        "response_analysis = {\"avoidance_flag\": False, \"sentiment\": \"Positive\"}\n",
        "\n",
        "current_phase = determine_next_phase(current_phase, response_analysis)\n",
        "print(f\"Next Phase: {current_phase}\")\n"
      ],
      "metadata": {
        "colab": {
          "base_uri": "https://localhost:8080/"
        },
        "id": "G10pT1lUFKQo",
        "outputId": "14532fef-1a85-4c1e-8277-d3bb7d81ecc1"
      },
      "execution_count": null,
      "outputs": [
        {
          "output_type": "stream",
          "name": "stdout",
          "text": [
            "Next Phase: Bridge the Gap\n"
          ]
        }
      ]
    },
    {
      "cell_type": "code",
      "source": [
        "def update_sas(existing_sas, response_analysis):\n",
        "    if response_analysis['sentiment'] == \"Positive\" and not response_analysis['avoidance_flag']:\n",
        "        return max(existing_sas - 0.2, 0)\n",
        "    elif response_analysis['sentiment'] == \"Negative\":\n",
        "        return min(existing_sas + 0.2, 4)\n",
        "    return existing_sas\n",
        "\n",
        "sas_score = float(input(\"Enter initial SAS score: \"))\n",
        "response_analysis = {\"sentiment\": \"Positive\", \"avoidance_flag\": False}\n",
        "\n",
        "sas_score = update_sas(sas_score, response_analysis)\n",
        "print(f\"Updated SAS Score: {sas_score:.2f}\")\n"
      ],
      "metadata": {
        "colab": {
          "base_uri": "https://localhost:8080/"
        },
        "id": "EGlbSRTWI98-",
        "outputId": "d6758f16-6fd1-466f-b7ff-d3784122df29"
      },
      "execution_count": null,
      "outputs": [
        {
          "output_type": "stream",
          "name": "stdout",
          "text": [
            "Enter initial SAS score: 5\n",
            "Updated SAS Score: 4.80\n"
          ]
        }
      ]
    },
    {
      "cell_type": "code",
      "source": [
        "def provide_feedback(sas_score):\n",
        "    if sas_score < 1.5:\n",
        "        return \"You're showing great progress! Keep practicing social conversations to build even more confidence.\"\n",
        "    elif sas_score < 3.0:\n",
        "        return \"You're improving! Try practicing eye contact and gradually initiating conversations.\"\n",
        "    else:\n",
        "        return \"Consider starting with simpler social situations and practicing mindfulness techniques to manage anxiety.\"\n",
        "\n",
        "sas_score = float(input(\"Enter SAS score: \"))\n",
        "\n",
        "print(\"\\nFeedback:\")\n",
        "print(provide_feedback(sas_score))\n"
      ],
      "metadata": {
        "colab": {
          "base_uri": "https://localhost:8080/"
        },
        "id": "MgVixLr6JRCe",
        "outputId": "c7bf031d-2683-4017-a82b-eab37d39289c"
      },
      "execution_count": null,
      "outputs": [
        {
          "output_type": "stream",
          "name": "stdout",
          "text": [
            "Enter SAS score: 4.80\n",
            "\n",
            "Feedback:\n",
            "Consider starting with simpler social situations and practicing mindfulness techniques to manage anxiety.\n"
          ]
        }
      ]
    },
    {
      "cell_type": "code",
      "source": [
        "import matplotlib.pyplot as plt\n",
        "\n",
        "# Example initial and updated SAS values\n",
        "initial_sas = 3.0\n",
        "sentiment = \"Positive\"  # This would come from sentiment analysis\n",
        "\n",
        "# Update SAS based on sentiment\n",
        "def update_sas(existing_sas, sentiment):\n",
        "    if sentiment == \"Positive\":\n",
        "        return max(existing_sas - 0.2, 0)\n",
        "    elif sentiment == \"Negative\":\n",
        "        return min(existing_sas + 0.2, 4)\n",
        "    return existing_sas\n",
        "\n",
        "updated_sas = update_sas(initial_sas, sentiment)\n",
        "\n",
        "# Print both scores\n",
        "print(f\"Initial SAS Score: {initial_sas}\")\n",
        "print(f\"Updated SAS Score: {updated_sas}\")\n",
        "\n",
        "# Visualize the change in SAS\n",
        "plt.figure(figsize=(6, 4))\n",
        "plt.bar(['Initial SAS', 'Updated SAS'], [initial_sas, updated_sas], color=['lightcoral', 'lightgreen'])\n",
        "plt.title('Change in Social Anxiety Score (SAS)')\n",
        "plt.ylim(0, 4.5)\n",
        "plt.ylabel('SAS Score (0 - Low Anxiety, 4 - High Anxiety)')\n",
        "plt.grid(axis='y', linestyle='--', alpha=0.6)\n",
        "plt.show()\n"
      ],
      "metadata": {
        "colab": {
          "base_uri": "https://localhost:8080/",
          "height": 426
        },
        "id": "T7j1Y-RE2X4H",
        "outputId": "3dc4f5fa-0794-4948-fff2-a9985c8ca10a"
      },
      "execution_count": 3,
      "outputs": [
        {
          "output_type": "stream",
          "name": "stdout",
          "text": [
            "Initial SAS Score: 3.0\n",
            "Updated SAS Score: 2.8\n"
          ]
        },
        {
          "output_type": "display_data",
          "data": {
            "text/plain": [
              "<Figure size 600x400 with 1 Axes>"
            ],
            "image/png": "[encoded data removed]"
          },
          "metadata": {}
        }
      ]
    }
  ]
}